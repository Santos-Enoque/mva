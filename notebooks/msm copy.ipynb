{
 "cells": [
  {
   "cell_type": "code",
   "execution_count": 1,
   "metadata": {},
   "outputs": [
    {
     "name": "stdout",
     "output_type": "stream",
     "text": [
      "Train data shape  (30, 33600, 576)\n",
      "Test data shape  (30, 8400, 576)\n",
      "Reference subspaces tensor shape: (30, 576, 10)\n"
     ]
    }
   ],
   "source": [
    "import scipy.io\n",
    "import numpy as np\n",
    "from sklearn.metrics import accuracy_score\n",
    "import functional as F\n",
    "import utils as ut\n",
    "import time\n",
    "from sklearn.metrics import precision_score, recall_score, f1_score, confusion_matrix, roc_auc_score, log_loss\n",
    "from sklearn.preprocessing import label_binarize\n",
    "import seaborn as sns\n",
    "from sklearn.metrics import ConfusionMatrixDisplay\n",
    "import matplotlib.pyplot as plt\n",
    "\n",
    "\n",
    "start_time = time.time()\n",
    "data = scipy.io.loadmat('../data/TsukubaHandSize24x24.mat')\n",
    "data = data['data']\n",
    "\n",
    "train_data, test_data = ut.split_train_test(data)\n",
    "train_data = ut.reshape_data(train_data, 80)\n",
    "test_data = ut.reshape_data(test_data, 20)\n",
    "\n",
    "train_data = ut.split_and_reshape(train_data)\n",
    "test_data = ut.split_and_reshape(test_data)\n",
    "\n",
    "# plot train images\n",
    "# first_images = [cls_arr[:, :, 0] for cls_arr in X_train]\n",
    "# plot_first_images(first_images)\n",
    "\n",
    "# # plot test images\n",
    "# first_images = [cls_arr[:, :, 0] for cls_arr in X_test]\n",
    "# plot_first_images(first_images)\n",
    "\n",
    "train_data = ut.flatten_and_transpose(train_data)\n",
    "test_data = ut.flatten_and_transpose(test_data)\n",
    "\n",
    "print('Train data shape ',np.array(train_data).shape)\n",
    "print('Test data shape ',np.array(test_data).shape)\n",
    "\n",
    "# Fianl preparation of the dataset\n",
    "NUM_OF_CLASSES = 30\n",
    "NUM_OF_SETS = 3\n",
    "\n",
    "X_train = [_X.T for _X in train_data]  # transpose into (N=896, M=30)\n",
    "\n",
    "test_sets = []\n",
    "\n",
    "for test_class in test_data:\n",
    "    test_sets.extend(np.array_split(test_class, NUM_OF_SETS))\n",
    "\n",
    "X_test = [_X.T for _X in test_sets]\n",
    "y_test = []\n",
    "\n",
    "for i, _ in enumerate(range(NUM_OF_CLASSES)):\n",
    "    y_test.extend(NUM_OF_SETS * [i])  # add corresponding labels into y_test\n",
    "\n",
    "\n",
    "# Creating the reference subspace\n",
    "n_dims = 10\n",
    "ref_subspaces = [F.kmsm(_X, n_dims=n_dims) for _X in X_train]\n",
    "ref_subspaces = np.array(ref_subspaces)\n",
    "print(f\"Reference subspaces tensor shape: {ref_subspaces.shape}\")\n",
    "\n",
    "\n",
    "# Create the input subpsace\n",
    "input_subspaces = [F.kmsm(set, n_dims=n_dims) for set in X_test]\n",
    "print(f\"Input subspaces shape: {input_subspaces[0].shape}\")\n",
    "print(f\"Input subspaces len: {len(input_subspaces)}\")\n",
    "\n",
    "# Calculate the similarities of the input and the reference subspaces\n",
    "similarities = np.array(\n",
    "    [\n",
    "        F.canonical_similarity(ref_subspaces, input_subspace)\n",
    "        for input_subspace in input_subspaces\n",
    "    ]\n",
    ")\n",
    "predictions = np.argmax(similarities, axis=1)\n",
    "\n",
    "\n",
    "acc = accuracy_score(y_test, predictions)\n",
    "precision = precision_score(y_test, predictions, average='macro')\n",
    "recall = recall_score(y_test, predictions, average='macro')\n",
    "f1 = f1_score(y_test, predictions, average='macro')\n",
    "\n",
    "# Binarize the output for multiclass log loss and roc auc score\n",
    "y_test_bin = label_binarize(y_test, classes=[i for i in range(NUM_OF_CLASSES)])\n",
    "predictions_bin = label_binarize(predictions, classes=[i for i in range(NUM_OF_CLASSES)])\n",
    "\n",
    "logloss = log_loss(y_test_bin, predictions_bin)\n",
    "roc_auc = roc_auc_score(y_test_bin, predictions_bin, multi_class='ovr')\n",
    "\n",
    "conf_matrix = confusion_matrix(y_test, predictions)\n",
    "\n",
    "end_time = time.time()\n",
    "\n",
    "elapsed_time = end_time - start_time\n",
    "minutes, seconds = divmod(elapsed_time, 60)\n",
    "\n",
    "print(\"Time took: {:0>2}:{:05.2f}\".format(int(minutes), seconds))\n",
    "print(f\"MSM accuracy: {acc * 100:.2f}\")\n",
    "print(f\"MSM precision: {precision * 100:.2f}\")\n",
    "print(f\"MSM recall: {recall * 100:.2f}\")\n",
    "print(f\"MSM f1-score: {f1 * 100:.2f}\")\n",
    "print(f\"MSM log-loss: {logloss:.2f}\")\n",
    "print(f\"MSM ROC AUC score: {roc_auc:.2f}\")\n",
    "\n",
    "fig, ax = plt.subplots(figsize=(10, 10))\n",
    "\n",
    "ConfusionMatrixDisplay(conf_matrix, display_labels=range(NUM_OF_CLASSES)).plot(ax=ax, cmap=plt.cm.Blues)\n",
    "plt.title(\"Confusion Matrix\")\n",
    "plt.show()"
   ]
  },
  {
   "cell_type": "code",
   "execution_count": null,
   "metadata": {},
   "outputs": [
    {
     "data": {
      "image/png": "[encoded data removed]",
      "text/plain": [
       "<Figure size 1000x500 with 1 Axes>"
      ]
     },
     "metadata": {},
     "output_type": "display_data"
    }
   ],
   "source": [
    "metrics = [acc, precision, recall, f1]\n",
    "metric_names = [\"accuracy\", \"precision\", \"recall\", \"F1-score\"]\n",
    "\n",
    "plt.figure(figsize=(10, 5))\n",
    "sns.barplot(x=metric_names, y=metrics)\n",
    "plt.title('Evaluation Metrics')\n",
    "plt.show()"
   ]
  },
  {
   "cell_type": "code",
   "execution_count": null,
   "metadata": {},
   "outputs": [],
   "source": []
  }
 ],
 "metadata": {
  "kernelspec": {
   "display_name": "base",
   "language": "python",
   "name": "python3"
  },
  "language_info": {
   "codemirror_mode": {
    "name": "ipython",
    "version": 3
   },
   "file_extension": ".py",
   "mimetype": "text/x-python",
   "name": "python",
   "nbconvert_exporter": "python",
   "pygments_lexer": "ipython3",
   "version": "3.9.13"
  },
  "orig_nbformat": 4,
  "vscode": {
   "interpreter": {
    "hash": "527a074acf49071b2377fde7c63ceb4a4239beeb7411e827925ed8927ac5cc57"
   }
  }
 },
 "nbformat": 4,
 "nbformat_minor": 2
}
