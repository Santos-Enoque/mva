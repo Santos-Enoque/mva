{
 "cells": [
  {
   "cell_type": "code",
   "execution_count": 15,
   "metadata": {},
   "outputs": [],
   "source": [
    "import scipy.io\n",
    "import numpy as np\n",
    "from sklearn.metrics import accuracy_score\n",
    "import functional as F\n",
    "import utils as ut\n",
    "import time\n"
   ]
  },
  {
   "cell_type": "code",
   "execution_count": 16,
   "metadata": {},
   "outputs": [
    {
     "name": "stdout",
     "output_type": "stream",
     "text": [
      "Number of train classes  30\n",
      "Shape of train class  (33600, 576)\n",
      "Numver of test classes  30\n",
      "Shape of test class  (8400, 576)\n"
     ]
    }
   ],
   "source": [
    "start_time = time.time()\n",
    "data = scipy.io.loadmat('../data/TsukubaHandSize24x24.mat')\n",
    "data = data['data']\n",
    "\n",
    "train_data, test_data = ut.split_train_test(data)\n",
    "train_data = ut.reshape_data(train_data, 80)\n",
    "test_data = ut.reshape_data(test_data, 20)\n",
    "\n",
    "train_data = ut.split_and_reshape(train_data)\n",
    "test_data = ut.split_and_reshape(test_data)\n",
    "\n",
    "# plot train images\n",
    "# first_images = [cls_arr[:, :, 0] for cls_arr in X_train]\n",
    "# plot_first_images(first_images)\n",
    "\n",
    "# # plot test images\n",
    "# first_images = [cls_arr[:, :, 0] for cls_arr in X_test]\n",
    "# plot_first_images(first_images)\n",
    "\n",
    "train_data = ut.flatten_and_transpose(train_data)\n",
    "test_data = ut.flatten_and_transpose(test_data)\n",
    "\n",
    "print('Number of train classes ',len(train_data))\n",
    "print('Shape of train class ',train_data[0].shape)\n",
    "print('Numver of test classes ',len(test_data))\n",
    "print('Shape of test class ', test_data[0].shape)\n"
   ]
  },
  {
   "cell_type": "code",
   "execution_count": 17,
   "metadata": {},
   "outputs": [],
   "source": [
    "# Fianl preparation of the dataset\n",
    "NUM_OF_CLASSES = 30\n",
    "NUM_OF_SETS = 5\n",
    "\n",
    "X_train = [_X.T for _X in train_data]  # transpose into (N=896, M=30)\n",
    "\n",
    "test_sets = []\n",
    "\n",
    "for test_class in test_data:\n",
    "    test_sets.extend(np.array_split(test_class, NUM_OF_SETS))\n",
    "\n",
    "X_test = [_X.T for _X in test_sets]\n",
    "y_test = []\n",
    "\n",
    "for i, _ in enumerate(range(NUM_OF_CLASSES)):\n",
    "    y_test.extend(NUM_OF_SETS * [i])  # add corresponding labels into y_test"
   ]
  },
  {
   "cell_type": "code",
   "execution_count": 18,
   "metadata": {},
   "outputs": [
    {
     "name": "stdout",
     "output_type": "stream",
     "text": [
      "Reference subspaces tensor shape: (30, 576, 10)\n"
     ]
    }
   ],
   "source": [
    "# Creating the reference subspace\n",
    "n_dims = 10\n",
    "ref_subspaces = [F.pca(_X, n_dims=n_dims) for _X in X_train]\n",
    "ref_subspaces = np.array(ref_subspaces)\n",
    "print(f\"Reference subspaces tensor shape: {ref_subspaces.shape}\")"
   ]
  },
  {
   "cell_type": "code",
   "execution_count": 19,
   "metadata": {},
   "outputs": [
    {
     "name": "stdout",
     "output_type": "stream",
     "text": [
      "Input subspaces type: <class 'list'>\n",
      "Input subspaces len: 150\n"
     ]
    }
   ],
   "source": [
    "# Create the input subpsace\n",
    "input_subspaces = [F.pca(set, n_dims=n_dims) for set in X_test]\n",
    "print(f\"Input subspaces type: {type(input_subspaces)}\")\n",
    "print(f\"Input subspaces len: {len(input_subspaces)}\")"
   ]
  },
  {
   "cell_type": "code",
   "execution_count": 20,
   "metadata": {},
   "outputs": [],
   "source": [
    "# Calculate the similarities of the input and the reference subspaces\n",
    "similarities = np.array(\n",
    "    [\n",
    "        F.canonical_similarity(ref_subspaces, input_subspace)\n",
    "        for input_subspace in input_subspaces\n",
    "    ]\n",
    ")\n",
    "predictions = np.argmax(similarities, axis=1)"
   ]
  },
  {
   "cell_type": "code",
   "execution_count": 21,
   "metadata": {},
   "outputs": [
    {
     "name": "stdout",
     "output_type": "stream",
     "text": [
      "Time took: 00:24.03\n",
      "MSM accuracy: 89.33\n"
     ]
    }
   ],
   "source": [
    "acc = accuracy_score(y_test, predictions)\n",
    "end_time = time.time()\n",
    "\n",
    "elapsed_time = end_time - start_time\n",
    "minutes, seconds = divmod(elapsed_time, 60)\n",
    "\n",
    "print(\"Time took: {:0>2}:{:05.2f}\".format(int(minutes), seconds))\n",
    "print(f\"MSM accuracy: {acc * 100:.2f}\")"
   ]
  },
  {
   "cell_type": "code",
   "execution_count": null,
   "metadata": {},
   "outputs": [],
   "source": []
  }
 ],
 "metadata": {
  "kernelspec": {
   "display_name": "base",
   "language": "python",
   "name": "python3"
  },
  "language_info": {
   "codemirror_mode": {
    "name": "ipython",
    "version": 3
   },
   "file_extension": ".py",
   "mimetype": "text/x-python",
   "name": "python",
   "nbconvert_exporter": "python",
   "pygments_lexer": "ipython3",
   "version": "3.9.13"
  },
  "orig_nbformat": 4
 },
 "nbformat": 4,
 "nbformat_minor": 2
}
