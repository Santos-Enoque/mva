{
 "cells": [
  {
   "cell_type": "code",
   "execution_count": 61,
   "metadata": {},
   "outputs": [],
   "source": [
    "import scipy.io\n",
    "import numpy as np\n",
    "import matplotlib.pyplot as plt\n",
    "from sklearn.model_selection import train_test_split\n",
    "from sklearn.metrics import accuracy_score\n",
    "import functional as F\n",
    "data = scipy.io.loadmat('../data/TsukubaHandSize24x24.mat')\n",
    "data = data['data']"
   ]
  },
  {
   "cell_type": "code",
   "execution_count": 62,
   "metadata": {},
   "outputs": [
    {
     "name": "stdout",
     "output_type": "stream",
     "text": [
      "Number of train classes  30\n",
      "Shape of train class  (33600, 576)\n",
      "Numver of test classes  30\n",
      "Shape of test class  (8400, 576)\n"
     ]
    }
   ],
   "source": [
    "def split_train_test(data, test_ratio=0.2):\n",
    "    num_people = data.shape[5]\n",
    "    num_test = int(num_people * test_ratio)\n",
    "    test_data = data[:, :, :, :, :, :num_test]\n",
    "    train_data = data[:, :, :, :, :, num_test:]\n",
    "    return train_data, test_data\n",
    "\n",
    "def reshape_data(data, n_samples):\n",
    "    data = data.reshape(24, 24, 60*7, 30, n_samples)\n",
    "    data = np.transpose(data, (0, 1, 4, 2, 3))\n",
    "    data = np.reshape(data, (24, 24, 420 * n_samples, 30))\n",
    "    return data\n",
    "\n",
    "def split_and_reshape(data):\n",
    "    data = np.split(data, 30, axis=3)\n",
    "    data = [arr.squeeze(axis=3) for arr in data]\n",
    "    return data\n",
    "\n",
    "def flatten_and_transpose(data):\n",
    "    data = [arr.reshape(24 * 24, arr.shape[2]) for arr in data]\n",
    "    data = [arr.T for arr in data]\n",
    "    return data\n",
    "\n",
    "def plot_first_images(first_images):\n",
    "    grid_rows = 6\n",
    "    grid_cols = 5\n",
    "    fig, axes = plt.subplots(grid_rows, grid_cols, figsize=(12, 12))\n",
    "\n",
    "    for i, img in enumerate(first_images):\n",
    "        row = i // grid_cols\n",
    "        col = i % grid_cols\n",
    "        ax = axes[row, col]\n",
    "        ax.imshow(img, cmap='gray')\n",
    "        ax.set_title(f'Class {i+1}')\n",
    "        ax.axis('off')\n",
    "\n",
    "    plt.subplots_adjust(hspace=0.5, wspace=0.5)\n",
    "    plt.show()\n",
    "\n",
    "X_train, X_test = split_train_test(data)\n",
    "X_train = reshape_data(X_train, 80)\n",
    "X_test = reshape_data(X_test, 20)\n",
    "\n",
    "X_train = split_and_reshape(X_train)\n",
    "X_test = split_and_reshape(X_test)\n",
    "\n",
    "# plot train images\n",
    "# first_images = [cls_arr[:, :, 0] for cls_arr in X_train]\n",
    "# plot_first_images(first_images)\n",
    "\n",
    "# # plot test images\n",
    "# first_images = [cls_arr[:, :, 0] for cls_arr in X_test]\n",
    "# plot_first_images(first_images)\n",
    "\n",
    "X_train = flatten_and_transpose(X_train)\n",
    "X_test = flatten_and_transpose(X_test)\n",
    "\n",
    "print('Number of train classes ',len(X_train))\n",
    "print('Shape of train class ',X_train[0].shape)\n",
    "print('Numver of test classes ',len(X_test))\n",
    "print('Shape of test class ', X_test[0].shape)\n"
   ]
  },
  {
   "cell_type": "code",
   "execution_count": null,
   "metadata": {},
   "outputs": [],
   "source": []
  },
  {
   "cell_type": "code",
   "execution_count": null,
   "metadata": {},
   "outputs": [],
   "source": []
  },
  {
   "cell_type": "code",
   "execution_count": null,
   "metadata": {},
   "outputs": [],
   "source": []
  }
 ],
 "metadata": {
  "kernelspec": {
   "display_name": "base",
   "language": "python",
   "name": "python3"
  },
  "language_info": {
   "codemirror_mode": {
    "name": "ipython",
    "version": 3
   },
   "file_extension": ".py",
   "mimetype": "text/x-python",
   "name": "python",
   "nbconvert_exporter": "python",
   "pygments_lexer": "ipython3",
   "version": "3.9.13"
  },
  "orig_nbformat": 4
 },
 "nbformat": 4,
 "nbformat_minor": 2
}
